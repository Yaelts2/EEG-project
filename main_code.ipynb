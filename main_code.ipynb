{
 "cells": [
  {
   "cell_type": "code",
   "execution_count": null,
   "id": "1c8a57e3",
   "metadata": {},
   "outputs": [
    {
     "name": "stdout",
     "output_type": "stream",
     "text": [
      "Processing sub-S01...\n"
     ]
    }
   ],
   "source": [
    "import mne\n",
    "import pandas as pd\n",
    "import numpy as np\n",
    "from pathlib import Path\n",
    "\n",
    "# === Config ===\n",
    "DATASET_ROOT = Path(r\"C:\\project\\EEG projects\\ds006104\")\n",
    "TIME_WINDOW = 10.0  # seconds after phoneme onset\n",
    "\n",
    "# === Initialize empty list to collect all rows ===\n",
    "all_trials = []\n",
    "\n",
    "subject_dirs = sorted(DATASET_ROOT.glob(\"sub-*\"))[:5]\n",
    "\n",
    "# === Loop over all subject folders ===\n",
    "for subject_dir in subject_dirs:\n",
    "    subject = subject_dir.name\n",
    "    eeg_path = subject_dir / \"ses-02\" / \"eeg\"\n",
    "    \n",
    "    edf_file = next(eeg_path.glob(\"*_task-singlephoneme_eeg.edf\"), None)\n",
    "    tsv_file = next(eeg_path.glob(\"*_task-singlephoneme_events.tsv\"), None)\n",
    "    \n",
    "    if not edf_file or not tsv_file:\n",
    "        print(f\"Skipping {subject}: files missing\")\n",
    "        continue\n",
    "\n",
    "    print(f\"Processing {subject}...\")\n",
    "\n",
    "    # Load data\n",
    "    raw = mne.io.read_raw_edf(edf_file, preload=True, verbose=False)\n",
    "    events_df = pd.read_csv(tsv_file, sep=\"\\t\")\n",
    "\n",
    "    # Filter stimulus phonemes\n",
    "    stim_df = events_df[events_df['trial_type'] == 'stimulus'].copy()\n",
    "    stim_df = stim_df.dropna(subset=['phoneme1'])  # keep only valid phonemes\n",
    "\n",
    "    sfreq = raw.info['sfreq']\n",
    "\n",
    "    for _, row in stim_df.iterrows():\n",
    "        onset_sample = int(row['onset'] * sfreq)\n",
    "        duration_samples = int(TIME_WINDOW * sfreq)\n",
    "        end_sample = onset_sample + duration_samples\n",
    "\n",
    "        if end_sample > raw.n_times:\n",
    "            continue  # skip if out of bounds\n",
    "\n",
    "        eeg_segment = raw.get_data(start=onset_sample, stop=end_sample)\n",
    "\n",
    "        # Append to dataset\n",
    "        all_trials.append({\n",
    "            'subject': subject,\n",
    "            'phoneme': row['phoneme1'],\n",
    "            'eeg': eeg_segment\n",
    "        })\n",
    "\n",
    "# === Convert to DataFrame (metadata only) ===\n",
    "df_metadata = pd.DataFrame([\n",
    "    {'subject': t['subject'], 'phoneme': t['phoneme']}\n",
    "    for t in all_trials\n",
    "])\n",
    "\n",
    "print(\"Total trials collected:\", len(all_trials))\n",
    "print(df_metadata.head())\n"
   ]
  },
  {
   "cell_type": "code",
   "execution_count": 1,
   "id": "e26448ff",
   "metadata": {},
   "outputs": [
    {
     "ename": "NameError",
     "evalue": "name 'all_trials' is not defined",
     "output_type": "error",
     "traceback": [
      "\u001b[1;31m---------------------------------------------------------------------------\u001b[0m",
      "\u001b[1;31mNameError\u001b[0m                                 Traceback (most recent call last)",
      "Cell \u001b[1;32mIn[1], line 1\u001b[0m\n\u001b[1;32m----> 1\u001b[0m \u001b[38;5;28mprint\u001b[39m(\u001b[43mall_trials\u001b[49m[\u001b[38;5;241m0\u001b[39m][\u001b[38;5;124m'\u001b[39m\u001b[38;5;124meeg\u001b[39m\u001b[38;5;124m'\u001b[39m]\u001b[38;5;241m.\u001b[39mshape)\n\u001b[0;32m      2\u001b[0m plt\u001b[38;5;241m.\u001b[39mfigure(figsize\u001b[38;5;241m=\u001b[39m(\u001b[38;5;241m10\u001b[39m, \u001b[38;5;241m6\u001b[39m))\n\u001b[0;32m      3\u001b[0m \u001b[38;5;28;01mfor\u001b[39;00m ch \u001b[38;5;129;01min\u001b[39;00m \u001b[38;5;28mrange\u001b[39m(\u001b[38;5;241m10\u001b[39m):  \u001b[38;5;66;03m# first 10 channels\u001b[39;00m\n",
      "\u001b[1;31mNameError\u001b[0m: name 'all_trials' is not defined"
     ]
    }
   ],
   "source": [
    "print(all_trials[0]['eeg'].shape)\n",
    "plt.figure(figsize=(10, 6))\n",
    "for ch in range(10):  # first 10 channels\n",
    "    plt.plot(all_trials[0]['eeg'][ch] + ch * 100)  # offset for readability\n",
    "plt.title(f\"Multi-channel EEG - {all_trials[0]['phoneme']}\")\n",
    "plt.xlabel(\"Samples\")\n",
    "plt.ylabel(\"Amplitude (offset)\")\n",
    "plt.show()\n"
   ]
  }
 ],
 "metadata": {
  "kernelspec": {
   "display_name": "Python 3",
   "language": "python",
   "name": "python3"
  },
  "language_info": {
   "codemirror_mode": {
    "name": "ipython",
    "version": 3
   },
   "file_extension": ".py",
   "mimetype": "text/x-python",
   "name": "python",
   "nbconvert_exporter": "python",
   "pygments_lexer": "ipython3",
   "version": "3.12.10"
  }
 },
 "nbformat": 4,
 "nbformat_minor": 5
}
